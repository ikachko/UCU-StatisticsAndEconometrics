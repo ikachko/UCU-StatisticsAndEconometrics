{
 "cells": [
  {
   "cell_type": "code",
   "execution_count": 1,
   "metadata": {},
   "outputs": [],
   "source": [
    "import pandas as pd"
   ]
  },
  {
   "cell_type": "markdown",
   "metadata": {},
   "source": [
    "# Problem 1: Descriptive Statistics and Probability Theory: Real Data on CEO Compensation"
   ]
  },
  {
   "cell_type": "code",
   "execution_count": 5,
   "metadata": {},
   "outputs": [
    {
     "data": {
      "text/html": [
       "<div>\n",
       "<style scoped>\n",
       "    .dataframe tbody tr th:only-of-type {\n",
       "        vertical-align: middle;\n",
       "    }\n",
       "\n",
       "    .dataframe tbody tr th {\n",
       "        vertical-align: top;\n",
       "    }\n",
       "\n",
       "    .dataframe thead th {\n",
       "        text-align: right;\n",
       "    }\n",
       "</style>\n",
       "<table border=\"1\" class=\"dataframe\">\n",
       "  <thead>\n",
       "    <tr style=\"text-align: right;\">\n",
       "      <th></th>\n",
       "      <th>salary</th>\n",
       "      <th>totcomp</th>\n",
       "      <th>tenure</th>\n",
       "      <th>age</th>\n",
       "      <th>sales</th>\n",
       "      <th>profits</th>\n",
       "      <th>assets</th>\n",
       "      <th>Unnamed: 7</th>\n",
       "    </tr>\n",
       "  </thead>\n",
       "  <tbody>\n",
       "    <tr>\n",
       "      <th>0</th>\n",
       "      <td>3030</td>\n",
       "      <td>8138</td>\n",
       "      <td>7</td>\n",
       "      <td>61</td>\n",
       "      <td>161315.0</td>\n",
       "      <td>2956.0</td>\n",
       "      <td>257389.0</td>\n",
       "      <td>NaN</td>\n",
       "    </tr>\n",
       "    <tr>\n",
       "      <th>1</th>\n",
       "      <td>6050</td>\n",
       "      <td>14530</td>\n",
       "      <td>0</td>\n",
       "      <td>51</td>\n",
       "      <td>144416.0</td>\n",
       "      <td>22071.0</td>\n",
       "      <td>237545.0</td>\n",
       "      <td>NaN</td>\n",
       "    </tr>\n",
       "    <tr>\n",
       "      <th>2</th>\n",
       "      <td>3571</td>\n",
       "      <td>7433</td>\n",
       "      <td>11</td>\n",
       "      <td>63</td>\n",
       "      <td>139208.0</td>\n",
       "      <td>4430.0</td>\n",
       "      <td>49271.0</td>\n",
       "      <td>NaN</td>\n",
       "    </tr>\n",
       "    <tr>\n",
       "      <th>3</th>\n",
       "      <td>3300</td>\n",
       "      <td>13464</td>\n",
       "      <td>6</td>\n",
       "      <td>60</td>\n",
       "      <td>100697.0</td>\n",
       "      <td>6370.0</td>\n",
       "      <td>92630.0</td>\n",
       "      <td>NaN</td>\n",
       "    </tr>\n",
       "    <tr>\n",
       "      <th>4</th>\n",
       "      <td>10000</td>\n",
       "      <td>68285</td>\n",
       "      <td>18</td>\n",
       "      <td>63</td>\n",
       "      <td>100469.0</td>\n",
       "      <td>9296.0</td>\n",
       "      <td>355935.0</td>\n",
       "      <td>NaN</td>\n",
       "    </tr>\n",
       "  </tbody>\n",
       "</table>\n",
       "</div>"
      ],
      "text/plain": [
       "   salary  totcomp  tenure  age     sales  profits    assets Unnamed: 7\n",
       "0    3030     8138       7   61  161315.0   2956.0  257389.0        NaN\n",
       "1    6050    14530       0   51  144416.0  22071.0  237545.0        NaN\n",
       "2    3571     7433      11   63  139208.0   4430.0   49271.0        NaN\n",
       "3    3300    13464       6   60  100697.0   6370.0   92630.0        NaN\n",
       "4   10000    68285      18   63  100469.0   9296.0  355935.0        NaN"
      ]
     },
     "execution_count": 5,
     "metadata": {},
     "output_type": "execute_result"
    }
   ],
   "source": [
    "df = pd.read_excel('ceo.xls')\n",
    "df.head()"
   ]
  },
  {
   "cell_type": "markdown",
   "metadata": {},
   "source": [
    "## (a)\n",
    "For the variable totcomp compute the common location measures: mean, 5%- trimmed mean, median, upper and lower quartiles, the upper and lower 5%- quantiles. Give an economic interpretation for every location measure."
   ]
  },
  {
   "cell_type": "code",
   "execution_count": 7,
   "metadata": {},
   "outputs": [
    {
     "data": {
      "text/plain": [
       "0     8138\n",
       "1    14530\n",
       "2     7433\n",
       "3    13464\n",
       "4    68285\n",
       "Name: totcomp, dtype: int64"
      ]
     },
     "execution_count": 7,
     "metadata": {},
     "output_type": "execute_result"
    }
   ],
   "source": [
    "totcomp = df['totcomp']\n",
    "totcomp.head()"
   ]
  },
  {
   "cell_type": "code",
   "execution_count": 8,
   "metadata": {},
   "outputs": [],
   "source": [
    "totcomp_mean = df['totcomp'].mean()"
   ]
  },
  {
   "cell_type": "code",
   "execution_count": null,
   "metadata": {},
   "outputs": [],
   "source": []
  }
 ],
 "metadata": {
  "kernelspec": {
   "display_name": "Python 3",
   "language": "python",
   "name": "python3"
  },
  "language_info": {
   "codemirror_mode": {
    "name": "ipython",
    "version": 3
   },
   "file_extension": ".py",
   "mimetype": "text/x-python",
   "name": "python",
   "nbconvert_exporter": "python",
   "pygments_lexer": "ipython3",
   "version": "3.7.5"
  }
 },
 "nbformat": 4,
 "nbformat_minor": 4
}
